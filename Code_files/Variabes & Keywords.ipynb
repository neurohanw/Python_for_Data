{
 "cells": [
  {
   "cell_type": "markdown",
   "id": "50aecfa8-bd21-45f6-9338-bf585689f2e2",
   "metadata": {},
   "source": [
    "### Variables in Python"
   ]
  },
  {
   "cell_type": "code",
   "execution_count": null,
   "id": "4e830928-7df8-4705-947b-f0632e2b4cdf",
   "metadata": {},
   "outputs": [],
   "source": [
    "the thing which is varrying\n",
    "Containers for future use"
   ]
  },
  {
   "cell_type": "code",
   "execution_count": null,
   "id": "2b776fcc-c97f-4c5e-9dca-20dc70fe7fa7",
   "metadata": {},
   "outputs": [],
   "source": [
    "when we dont know what value user will assign to the Variable\n",
    "\n",
    "Dynamic Typing : \n",
    "no need to mention data type of the variable, it will understand by code automatiically\n",
    "\n",
    "Dnymaic Binding :\n",
    "a variable can store different types of data ( int , string , boolean)\n",
    "\n",
    "just assign the value and use \n",
    "no declaration is required\n"
   ]
  },
  {
   "cell_type": "markdown",
   "id": "acb32e05-3b57-46ef-a866-af8a2c052f3b",
   "metadata": {},
   "source": [
    "### naming conventions or standards"
   ]
  },
  {
   "cell_type": "markdown",
   "id": "3d42d069-1660-48c1-87d4-3d14fead2539",
   "metadata": {},
   "source": [
    "Can oly start with alphabet or _ (can not start with speial char. or digits)\n",
    "do not use - (dash) inbetween\n",
    "followed by 0 or _ or digits\n",
    "keywords cannot be use as variable name"
   ]
  },
  {
   "cell_type": "code",
   "execution_count": 11,
   "id": "8ddfeb4c-8aa2-40e1-813c-2246b6e2746f",
   "metadata": {},
   "outputs": [
    {
     "name": "stdout",
     "output_type": "stream",
     "text": [
      "Rohan\n"
     ]
    }
   ],
   "source": [
    "a = \"Rohan\"   # a is storing string\n",
    "print (a)"
   ]
  },
  {
   "cell_type": "code",
   "execution_count": 13,
   "id": "eb936600-bb79-45ca-8aed-72a0f5369004",
   "metadata": {},
   "outputs": [
    {
     "name": "stdout",
     "output_type": "stream",
     "text": [
      "2\n"
     ]
    }
   ],
   "source": [
    "a = 2          # a is storing int\n",
    "print(a)"
   ]
  },
  {
   "cell_type": "markdown",
   "id": "d4889c13-1863-4d99-8085-48218fd41a64",
   "metadata": {},
   "source": [
    "#### Variable declaration techniques "
   ]
  },
  {
   "cell_type": "code",
   "execution_count": 20,
   "id": "8f05b65f-1099-4914-bce1-760bd65a8653",
   "metadata": {},
   "outputs": [
    {
     "name": "stdout",
     "output_type": "stream",
     "text": [
      "5\n",
      "4\n",
      "7\n"
     ]
    }
   ],
   "source": [
    "a = 5 ; b = 4 ; c = 7 \n",
    "print (a)\n",
    "print (b)\n",
    "print (c)"
   ]
  },
  {
   "cell_type": "code",
   "execution_count": 22,
   "id": "671dd982-f9bf-4bc7-88b1-00a464f7b14e",
   "metadata": {},
   "outputs": [
    {
     "name": "stdout",
     "output_type": "stream",
     "text": [
      "4\n",
      "8\n",
      "1\n"
     ]
    }
   ],
   "source": [
    "a,b,c = 4,8,1\n",
    "print (a)\n",
    "print (b)\n",
    "print (c)"
   ]
  },
  {
   "cell_type": "code",
   "execution_count": 24,
   "id": "30fb2776-f62a-4479-a5f4-172cbac455d7",
   "metadata": {},
   "outputs": [
    {
     "name": "stdout",
     "output_type": "stream",
     "text": [
      "8\n",
      "8\n",
      "8\n"
     ]
    }
   ],
   "source": [
    "a = b = c = 8\n",
    "print (b) \n",
    "print (a)\n",
    "print(c)"
   ]
  },
  {
   "cell_type": "markdown",
   "id": "e13087ff-724a-4c29-8aac-8f120ea10011",
   "metadata": {},
   "source": [
    "### Keywords "
   ]
  },
  {
   "cell_type": "markdown",
   "id": "179cbfec-61ad-4591-9a75-19065e475740",
   "metadata": {},
   "source": [
    "words which are reserved by language & which is having a special meaning"
   ]
  },
  {
   "cell_type": "code",
   "execution_count": 3,
   "id": "9fd72dcf-c22e-450e-aa12-f82f009ea65c",
   "metadata": {},
   "outputs": [
    {
     "name": "stdout",
     "output_type": "stream",
     "text": [
      "['False', 'None', 'True', 'and', 'as', 'assert', 'async', 'await', 'break', 'class', 'continue', 'def', 'del', 'elif', 'else', 'except', 'finally', 'for', 'from', 'global', 'if', 'import', 'in', 'is', 'lambda', 'nonlocal', 'not', 'or', 'pass', 'raise', 'return', 'try', 'while', 'with', 'yield']\n"
     ]
    }
   ],
   "source": [
    "# python has 33 keywords below is the code to get keywords list \n",
    "import keyword\n",
    "print(keyword.kwlist)"
   ]
  },
  {
   "cell_type": "code",
   "execution_count": null,
   "id": "dd9fa5ba-c560-4fdb-87ab-3b93e15e8566",
   "metadata": {},
   "outputs": [],
   "source": []
  }
 ],
 "metadata": {
  "kernelspec": {
   "display_name": "Python [conda env:base] *",
   "language": "python",
   "name": "conda-base-py"
  },
  "language_info": {
   "codemirror_mode": {
    "name": "ipython",
    "version": 3
   },
   "file_extension": ".py",
   "mimetype": "text/x-python",
   "name": "python",
   "nbconvert_exporter": "python",
   "pygments_lexer": "ipython3",
   "version": "3.12.7"
  }
 },
 "nbformat": 4,
 "nbformat_minor": 5
}
