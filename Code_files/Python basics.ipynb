{
 "cells": [
  {
   "cell_type": "markdown",
   "id": "498b67d5-31cf-442c-8ae4-5f694d207ee7",
   "metadata": {},
   "source": [
    "### Basic Print function"
   ]
  },
  {
   "cell_type": "code",
   "execution_count": 23,
   "id": "1a74c31c-5cb3-4c5f-85c0-17c28f97d4d3",
   "metadata": {},
   "outputs": [
    {
     "name": "stdout",
     "output_type": "stream",
     "text": [
      "Hellow\n"
     ]
    }
   ],
   "source": [
    "print(\"Hellow\")"
   ]
  },
  {
   "cell_type": "code",
   "execution_count": 11,
   "id": "31c4e5b6-209f-402f-b1fd-376ca4e0d2f6",
   "metadata": {},
   "outputs": [
    {
     "name": "stdout",
     "output_type": "stream",
     "text": [
      "u\n"
     ]
    }
   ],
   "source": [
    "print ('u')\n"
   ]
  },
  {
   "cell_type": "code",
   "execution_count": 13,
   "id": "8438cd80-331e-454f-a641-f8ec2f61339d",
   "metadata": {},
   "outputs": [
    {
     "name": "stdout",
     "output_type": "stream",
     "text": [
      "Rohan\n"
     ]
    }
   ],
   "source": [
    "print(\"Rohan\")"
   ]
  },
  {
   "cell_type": "markdown",
   "id": "99d6e3c6-7a2b-4615-a77a-4f98f7d445d7",
   "metadata": {},
   "source": [
    "## Coomments "
   ]
  },
  {
   "cell_type": "code",
   "execution_count": null,
   "id": "6d269972-744f-45cd-94c8-f666def95d04",
   "metadata": {},
   "outputs": [],
   "source": [
    "putting has before the line"
   ]
  },
  {
   "cell_type": "code",
   "execution_count": 21,
   "id": "3d5688d9-85db-4e6f-845d-4ad2c685e501",
   "metadata": {},
   "outputs": [],
   "source": [
    "# this is comment "
   ]
  },
  {
   "cell_type": "code",
   "execution_count": null,
   "id": "7a1504fb-1051-4995-a6e3-3db693f00347",
   "metadata": {},
   "outputs": [],
   "source": []
  },
  {
   "cell_type": "code",
   "execution_count": null,
   "id": "ae42dcde-3355-497c-82a9-4915ce6da668",
   "metadata": {},
   "outputs": [],
   "source": []
  },
  {
   "cell_type": "code",
   "execution_count": null,
   "id": "7ea7c4d4-7cc1-44bd-a3b3-aa51864be41f",
   "metadata": {},
   "outputs": [],
   "source": []
  }
 ],
 "metadata": {
  "kernelspec": {
   "display_name": "Python [conda env:base] *",
   "language": "python",
   "name": "conda-base-py"
  },
  "language_info": {
   "codemirror_mode": {
    "name": "ipython",
    "version": 3
   },
   "file_extension": ".py",
   "mimetype": "text/x-python",
   "name": "python",
   "nbconvert_exporter": "python",
   "pygments_lexer": "ipython3",
   "version": "3.12.7"
  }
 },
 "nbformat": 4,
 "nbformat_minor": 5
}
