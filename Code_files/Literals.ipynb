{
 "cells": [
  {
   "cell_type": "code",
   "execution_count": null,
   "id": "f964d375-8fc4-4644-97cf-e92e6303198e",
   "metadata": {},
   "outputs": [],
   "source": [
    "# Literal is the value which we are giving to variables\n",
    "There are various ways of giving rawa data type values to Variables"
   ]
  },
  {
   "cell_type": "markdown",
   "id": "b3a73dc3-e39c-473a-bc66-3c12446cc138",
   "metadata": {},
   "source": [
    "### 1. Numerical Literals"
   ]
  },
  {
   "cell_type": "code",
   "execution_count": 33,
   "id": "38c60557-b6e4-4cab-8721-d44eadf60268",
   "metadata": {},
   "outputs": [
    {
     "name": "stdout",
     "output_type": "stream",
     "text": [
      "100\n",
      "649\n"
     ]
    }
   ],
   "source": [
    "a = 100 #Decimal Literal\n",
    "b = 0b1010001001   # Binaray Literal\n",
    "print (a)\n",
    "print (b)"
   ]
  },
  {
   "cell_type": "code",
   "execution_count": 7,
   "id": "1d693fef-b204-4432-b2b9-2288c7981505",
   "metadata": {},
   "outputs": [
    {
     "name": "stdout",
     "output_type": "stream",
     "text": [
      "15.2355\n",
      "300.0\n",
      "0.03\n"
     ]
    }
   ],
   "source": [
    "#Float literal\n",
    "float_a = 15.2355\n",
    "float_b = 3e2 # i.e. 3x10^2 = 300\n",
    "float_c = 3e-2 #i.e 3x10^-2\n",
    "print(float_a)\n",
    "print (float_b)\n",
    "print(float_c"
   ]
  },
  {
   "cell_type": "markdown",
   "id": "b7986664-0f3f-41e3-a30f-028951f4bd9d",
   "metadata": {},
   "source": [
    "### 2.String Literals"
   ]
  },
  {
   "cell_type": "code",
   "execution_count": 21,
   "id": "eceda1c4-eb96-48b7-b660-80dcbc0891d9",
   "metadata": {},
   "outputs": [
    {
     "name": "stdout",
     "output_type": "stream",
     "text": [
      "Rohan Wankhede\n",
      "Rohan Wankhede\n",
      "a\n",
      "When we need to store more lines (Blog or eassy type something) from user\n",
      "🌎😍\n"
     ]
    }
   ],
   "source": [
    "string_1 = 'Rohan Wankhede'\n",
    "string_2 = \"Rohan Wankhede\"\n",
    "char = \"a\" #in python there is no any specific data type as Character it is passing as string only\n",
    "multiline_str = \"\"\"When we need to store more lines (Blog or eassy type something) from user\"\"\"\n",
    "unicode = u\"\\U0001f30e\\U0001f60d\"     #UTF-8 Unicode is used/supported here\n",
    "print(string_1)\n",
    "print(string_2)\n",
    "print(char)\n",
    "print(multiline_str)\n",
    "print(unicode)"
   ]
  },
  {
   "cell_type": "markdown",
   "id": "4048e7b2-d5d5-41ce-a869-fa857bc38089",
   "metadata": {},
   "source": [
    "### 3. Boolean Literal"
   ]
  },
  {
   "cell_type": "code",
   "execution_count": 25,
   "id": "1cd93355-b9a5-4240-9180-c4a84182bedb",
   "metadata": {},
   "outputs": [
    {
     "name": "stdout",
     "output_type": "stream",
     "text": [
      "2\n",
      "1\n"
     ]
    }
   ],
   "source": [
    "a= True + 1 #here  true is considered as 1 i.e. 1+1 = 2\n",
    "b = False + 1 #here false is considered as 0  i.e. 0+1 = 1\n",
    "print(a)\n",
    "print(b)"
   ]
  },
  {
   "cell_type": "markdown",
   "id": "cb123763-86c8-4b8b-ab4c-8eb9b474ebed",
   "metadata": {},
   "source": [
    "### 4. Special Literal"
   ]
  },
  {
   "cell_type": "code",
   "execution_count": 30,
   "id": "c0c3c194-408b-4d0b-a66b-2ec5a01196cc",
   "metadata": {},
   "outputs": [
    {
     "name": "stdout",
     "output_type": "stream",
     "text": [
      "None\n"
     ]
    }
   ],
   "source": [
    "a = None #When we need to declare a variable which you will be using afterwards. Safest way to declare variables \n",
    "print (a)"
   ]
  },
  {
   "cell_type": "code",
   "execution_count": null,
   "id": "91a9fb42-f5f3-4c3a-b2de-fcfe83252d66",
   "metadata": {},
   "outputs": [],
   "source": []
  },
  {
   "cell_type": "code",
   "execution_count": null,
   "id": "505fb2b4-3b0a-4b91-81f7-b2d9375b7f56",
   "metadata": {},
   "outputs": [],
   "source": []
  },
  {
   "cell_type": "code",
   "execution_count": null,
   "id": "8247d7db-66af-4621-9889-ef80e357cc44",
   "metadata": {},
   "outputs": [],
   "source": []
  },
  {
   "cell_type": "code",
   "execution_count": null,
   "id": "93ab0bee-c365-4f4f-8c9f-99fe4a6560c7",
   "metadata": {},
   "outputs": [],
   "source": []
  },
  {
   "cell_type": "code",
   "execution_count": null,
   "id": "c1770a81-1b6b-49d0-a775-b7c6d90c95a4",
   "metadata": {},
   "outputs": [],
   "source": []
  }
 ],
 "metadata": {
  "kernelspec": {
   "display_name": "Python [conda env:base] *",
   "language": "python",
   "name": "conda-base-py"
  },
  "language_info": {
   "codemirror_mode": {
    "name": "ipython",
    "version": 3
   },
   "file_extension": ".py",
   "mimetype": "text/x-python",
   "name": "python",
   "nbconvert_exporter": "python",
   "pygments_lexer": "ipython3",
   "version": "3.12.7"
  }
 },
 "nbformat": 4,
 "nbformat_minor": 5
}
