{
 "cells": [
  {
   "cell_type": "markdown",
   "id": "500e16bf-a192-498f-b750-c8aa7b975b87",
   "metadata": {},
   "source": [
    "## User input"
   ]
  },
  {
   "cell_type": "markdown",
   "id": "bbece007-280d-4ca9-8545-e62f9b6cb1d0",
   "metadata": {},
   "source": [
    "### Whatever input user is providing it is feed to program as String only  (Because string is universal data type i.e. can accept any data type)"
   ]
  },
  {
   "cell_type": "code",
   "execution_count": null,
   "id": "cb7dfea1-de38-439e-abe1-9ca75b98abc5",
   "metadata": {},
   "outputs": [],
   "source": []
  },
  {
   "cell_type": "code",
   "execution_count": 4,
   "id": "6d41104f-7a68-4dc0-98f9-0b569592e246",
   "metadata": {},
   "outputs": [
    {
     "name": "stdin",
     "output_type": "stream",
     "text": [
      " Rohan\n"
     ]
    },
    {
     "data": {
      "text/plain": [
       "'Rohan'"
      ]
     },
     "execution_count": 4,
     "metadata": {},
     "output_type": "execute_result"
    }
   ],
   "source": [
    "input()"
   ]
  },
  {
   "cell_type": "code",
   "execution_count": 6,
   "id": "3b802896-133a-4dab-a0c9-8563470373df",
   "metadata": {},
   "outputs": [
    {
     "name": "stdin",
     "output_type": "stream",
     "text": [
      "Please enter country name India\n"
     ]
    },
    {
     "data": {
      "text/plain": [
       "'India'"
      ]
     },
     "execution_count": 6,
     "metadata": {},
     "output_type": "execute_result"
    }
   ],
   "source": [
    "input(\"Please enter country name\")\n"
   ]
  },
  {
   "cell_type": "code",
   "execution_count": null,
   "id": "ca3c57b0-e600-4693-986d-ba5d2cd6165c",
   "metadata": {},
   "outputs": [],
   "source": []
  },
  {
   "cell_type": "code",
   "execution_count": null,
   "id": "ca571bd8-3c8d-4d26-95e6-0b2e83d1391b",
   "metadata": {},
   "outputs": [],
   "source": []
  },
  {
   "cell_type": "code",
   "execution_count": null,
   "id": "b7fc4fee-4095-46d4-b172-c6c7a054ce92",
   "metadata": {},
   "outputs": [],
   "source": []
  },
  {
   "cell_type": "markdown",
   "id": "6d6856ae-2dc6-4635-8e09-430d2f66b75c",
   "metadata": {},
   "source": [
    "### Mini Project"
   ]
  },
  {
   "cell_type": "code",
   "execution_count": 14,
   "id": "51d03de9-9ab1-468d-9576-fa9226fc8b6a",
   "metadata": {},
   "outputs": [],
   "source": [
    "# Take two numbers from user and store result as sum of that 2 numbers"
   ]
  },
  {
   "cell_type": "code",
   "execution_count": 16,
   "id": "e4949542-c751-407e-b361-ee297526d1c7",
   "metadata": {},
   "outputs": [
    {
     "name": "stdin",
     "output_type": "stream",
     "text": [
      "Please insert first number 2\n",
      "Please insert second number 3\n"
     ]
    }
   ],
   "source": [
    "First_number = input(\"Please insert first number\")\n",
    "Second_number = input(\"Please insert second number\")"
   ]
  },
  {
   "cell_type": "code",
   "execution_count": 36,
   "id": "ffee84f1-3f18-47c0-a787-f3a2ace148b1",
   "metadata": {},
   "outputs": [
    {
     "name": "stdout",
     "output_type": "stream",
     "text": [
      "Your 2 numbers are 2&3\n",
      "sum is 23\n",
      "Correct sum is 5\n"
     ]
    }
   ],
   "source": [
    "print(\"Your 2 numbers are \"+ First_number + \"&\" + Second_number)\n",
    "result = First_number + Second_number\n",
    "print(\"sum is \" + result)\n",
    "correctresult = int(First_number)+int(Second_number)\n",
    "print( \"Correct sum is \"+ str(correctresult))\n"
   ]
  },
  {
   "cell_type": "code",
   "execution_count": null,
   "id": "1958a1f2-ed3d-4f74-a187-7ca0811eb03b",
   "metadata": {},
   "outputs": [],
   "source": []
  }
 ],
 "metadata": {
  "kernelspec": {
   "display_name": "Python [conda env:base] *",
   "language": "python",
   "name": "conda-base-py"
  },
  "language_info": {
   "codemirror_mode": {
    "name": "ipython",
    "version": 3
   },
   "file_extension": ".py",
   "mimetype": "text/x-python",
   "name": "python",
   "nbconvert_exporter": "python",
   "pygments_lexer": "ipython3",
   "version": "3.12.7"
  }
 },
 "nbformat": 4,
 "nbformat_minor": 5
}
