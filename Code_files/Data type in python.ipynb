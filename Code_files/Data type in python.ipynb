{
 "cells": [
  {
   "cell_type": "markdown",
   "id": "7b4a9f4f-c038-4de7-9b04-5bf04efd8ec7",
   "metadata": {},
   "source": [
    "### Data Types in Python"
   ]
  },
  {
   "cell_type": "markdown",
   "id": "1d91fb5d-47d5-4500-bea8-7f8f0a598421",
   "metadata": {},
   "source": [
    "#### Basic Data types "
   ]
  },
  {
   "cell_type": "markdown",
   "id": "f790884a-48e8-463b-9c64-336e23150343",
   "metadata": {},
   "source": [
    "integer = number i.e. 1-xe308\n",
    "float = decimal numbers i.e 1.12, 25.52 upto xe308\n",
    "complex =Real + img ->  number with imaginary numbers like 10+2i or 12+4 j\n",
    "Boolean = True / False\n",
    "String = 'Hello'\n",
    "        \"Hello\"\n",
    "        \"\"\"Hello\"\"\"\n"
   ]
  },
  {
   "cell_type": "markdown",
   "id": "75fc88e6-1988-4aba-9a80-077c27e932aa",
   "metadata": {},
   "source": [
    "### Container Type"
   ]
  },
  {
   "cell_type": "code",
   "execution_count": null,
   "id": "c88fab58-f94c-4691-9a74-6d2efea9bc89",
   "metadata": {},
   "outputs": [],
   "source": [
    "List :\n",
    "Like Array when we are using [] square Barckets\n",
    "x = [1,2,3,4,3,5]"
   ]
  },
  {
   "cell_type": "code",
   "execution_count": null,
   "id": "58b58435-1ee1-49e1-915e-7abbff7aa05b",
   "metadata": {},
   "outputs": [],
   "source": [
    "Set :\n",
    "When usong Curly brackets {} like Set union\n",
    "{1,5,1,5}"
   ]
  },
  {
   "cell_type": "code",
   "execution_count": null,
   "id": "7d2fa3c1-d5b8-41bd-86d6-aa0d1f26a305",
   "metadata": {},
   "outputs": [],
   "source": [
    "Dictonary : \n",
    "Key value pair (for fastest searching )\n",
    "print ({\"Name\" : \"Rohan\", \"age\" : 27 , \"gender\" : \"Male\" }) \n",
    "        key        value   key   value    Key       value"
   ]
  },
  {
   "cell_type": "markdown",
   "id": "ccee8ac5-ffc7-4419-85eb-1903b6b7e77d",
   "metadata": {},
   "source": [
    "###  Type Conversion"
   ]
  },
  {
   "cell_type": "code",
   "execution_count": 12,
   "id": "c31cfdc6-bb76-4a2c-81e2-162ac8ca7f79",
   "metadata": {},
   "outputs": [],
   "source": [
    "a = \"6\"\n",
    "b = int(a)    #convert string to integer\n",
    "c =\"3\"\n",
    "d = int(c)    #convert string to integer"
   ]
  },
  {
   "cell_type": "code",
   "execution_count": 8,
   "id": "47a4d547-5c72-4bb6-bf6b-a3015a97e8d9",
   "metadata": {},
   "outputs": [
    {
     "name": "stdout",
     "output_type": "stream",
     "text": [
      "63\n",
      "9\n"
     ]
    }
   ],
   "source": [
    "sum1 = a+c \n",
    "sum2 = b+d\n",
    "print (sum1)   #this is concatation\n",
    "print (sum2)   #this is sum of integers"
   ]
  },
  {
   "cell_type": "markdown",
   "id": "d25cb243-cc4d-43b5-a680-76ba7f6700f7",
   "metadata": {},
   "source": [
    "### Conversion function"
   ]
  },
  {
   "cell_type": "code",
   "execution_count": 15,
   "id": "0aaba620-d59f-46f6-b19a-cfe830d55752",
   "metadata": {},
   "outputs": [
    {
     "data": {
      "text/plain": [
       "3"
      ]
     },
     "execution_count": 15,
     "metadata": {},
     "output_type": "execute_result"
    }
   ],
   "source": [
    "int('3')"
   ]
  },
  {
   "cell_type": "code",
   "execution_count": 17,
   "id": "dc5a5e4e-f6ae-43e7-81ca-96ee78bc6233",
   "metadata": {},
   "outputs": [
    {
     "data": {
      "text/plain": [
       "3"
      ]
     },
     "execution_count": 17,
     "metadata": {},
     "output_type": "execute_result"
    }
   ],
   "source": [
    "int('3')"
   ]
  },
  {
   "cell_type": "code",
   "execution_count": 19,
   "id": "9357238c-3d34-43e5-9af9-d5bf9a457f94",
   "metadata": {},
   "outputs": [
    {
     "data": {
      "text/plain": [
       "3.0"
      ]
     },
     "execution_count": 19,
     "metadata": {},
     "output_type": "execute_result"
    }
   ],
   "source": [
    "float(3)"
   ]
  },
  {
   "cell_type": "code",
   "execution_count": 21,
   "id": "cd7697af-741b-41ff-965d-7093cde6f38f",
   "metadata": {},
   "outputs": [
    {
     "data": {
      "text/plain": [
       "'3'"
      ]
     },
     "execution_count": 21,
     "metadata": {},
     "output_type": "execute_result"
    }
   ],
   "source": [
    "str(3)"
   ]
  },
  {
   "cell_type": "code",
   "execution_count": 23,
   "id": "5c0e53df-a911-4564-8d37-fd7dc48dc0d7",
   "metadata": {},
   "outputs": [
    {
     "data": {
      "text/plain": [
       "(3+0j)"
      ]
     },
     "execution_count": 23,
     "metadata": {},
     "output_type": "execute_result"
    }
   ],
   "source": [
    "complex(3)"
   ]
  },
  {
   "cell_type": "code",
   "execution_count": 40,
   "id": "c2023e09-5d6b-4518-b68c-c98b1c6da89f",
   "metadata": {},
   "outputs": [
    {
     "data": {
      "text/plain": [
       "True"
      ]
     },
     "execution_count": 40,
     "metadata": {},
     "output_type": "execute_result"
    }
   ],
   "source": [
    "bool(1)"
   ]
  },
  {
   "cell_type": "code",
   "execution_count": 42,
   "id": "b6c1e9f1-d92d-4cfd-a5f9-6ca06506b005",
   "metadata": {},
   "outputs": [
    {
     "data": {
      "text/plain": [
       "False"
      ]
     },
     "execution_count": 42,
     "metadata": {},
     "output_type": "execute_result"
    }
   ],
   "source": [
    "bool(0)"
   ]
  },
  {
   "cell_type": "code",
   "execution_count": null,
   "id": "31ff6672-644c-4ec9-8b1f-14db3d7215a6",
   "metadata": {},
   "outputs": [],
   "source": []
  },
  {
   "cell_type": "code",
   "execution_count": 25,
   "id": "f22f84a5-d9e6-4477-839a-fa8a58b46a92",
   "metadata": {},
   "outputs": [
    {
     "data": {
      "text/plain": [
       "['H', 'e', 'l', 'l', 'o']"
      ]
     },
     "execution_count": 25,
     "metadata": {},
     "output_type": "execute_result"
    }
   ],
   "source": [
    "list(\"Hello\")"
   ]
  },
  {
   "cell_type": "code",
   "execution_count": 33,
   "id": "1dcdd294-020f-4ef4-83b9-df88227336b6",
   "metadata": {},
   "outputs": [
    {
     "name": "stdout",
     "output_type": "stream",
     "text": [
      "<class 'str'>\n",
      "<class 'int'>\n"
     ]
    }
   ],
   "source": [
    "print(type(sum1))\n",
    "print(type(sum2))"
   ]
  },
  {
   "cell_type": "markdown",
   "id": "e98a6dd5-1f74-4803-9886-e9ccf8f3f059",
   "metadata": {},
   "source": [
    "### Type conversion never changes the value, value will be as it is only changes type temproray"
   ]
  },
  {
   "cell_type": "code",
   "execution_count": 45,
   "id": "d75bfc5a-9393-4304-93c8-dd966647275e",
   "metadata": {},
   "outputs": [
    {
     "name": "stdout",
     "output_type": "stream",
     "text": [
      "(6+0j)\n",
      "32\n"
     ]
    }
   ],
   "source": [
    "a = '3'\n",
    "b = int(a)\n",
    "c = complex (a)\n",
    "print (b+c)  #3+3+0j\n",
    "d = '2'\n",
    "print(a+d)  #Still a and c are considered as string only"
   ]
  },
  {
   "cell_type": "code",
   "execution_count": null,
   "id": "9f1500e3-30f4-4fbe-bda3-0ee081403651",
   "metadata": {},
   "outputs": [],
   "source": []
  }
 ],
 "metadata": {
  "kernelspec": {
   "display_name": "Python [conda env:base] *",
   "language": "python",
   "name": "conda-base-py"
  },
  "language_info": {
   "codemirror_mode": {
    "name": "ipython",
    "version": 3
   },
   "file_extension": ".py",
   "mimetype": "text/x-python",
   "name": "python",
   "nbconvert_exporter": "python",
   "pygments_lexer": "ipython3",
   "version": "3.12.7"
  }
 },
 "nbformat": 4,
 "nbformat_minor": 5
}
